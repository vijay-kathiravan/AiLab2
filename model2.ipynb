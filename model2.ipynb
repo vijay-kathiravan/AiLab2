{
 "cells": [
  {
   "cell_type": "markdown",
   "id": "0e467d24",
   "metadata": {},
   "source": [
    "# Step 1: Preliminaries and Data Generation"
   ]
  },
  {
   "cell_type": "code",
   "execution_count": 91,
   "id": "41d45bad",
   "metadata": {},
   "outputs": [
    {
     "data": {
      "text/plain": [
       "array([1., 1., 1., 1., 1., 0., 1., 0., 0., 1., 1., 1., 1., 1., 1., 1., 1.,\n",
       "       0., 1., 0., 0., 1., 1., 0., 1., 0., 1., 0., 1., 1., 1., 1., 0., 0.,\n",
       "       0., 1., 1., 1., 0., 0., 0., 0., 0., 1., 0., 0., 0., 1., 0., 0., 0.,\n",
       "       1., 0., 0., 0., 1., 1., 1., 0., 0., 0., 0., 0., 0., 1., 0., 0., 1.,\n",
       "       0., 1., 1., 1., 1., 0., 1., 0., 0., 0., 0., 1., 0., 1., 1., 0., 1.,\n",
       "       1., 1., 0., 0., 1., 0., 1., 1., 1., 1., 1., 1., 1., 1., 1.])"
      ]
     },
     "execution_count": 91,
     "metadata": {},
     "output_type": "execute_result"
    }
   ],
   "source": [
    "import numpy as np\n",
    "import matplotlib.pyplot as plt\n",
    "from sklearn.linear_model import LogisticRegression\n",
    "from sklearn.metrics import confusion_matrix, classification_report, roc_curve\n",
    "# Generate mock data\n",
    "np.random.seed(0)\n",
    "X = np.random.randn(100, 1)\n",
    "y = (X > 0).astype(np.float64).ravel()"
   ]
  },
  {
   "cell_type": "markdown",
   "id": "6ea0d204",
   "metadata": {},
   "source": [
    "# Step 2: Define the Sigmoid Function"
   ]
  },
  {
   "cell_type": "code",
   "execution_count": 29,
   "id": "c6363f2c",
   "metadata": {},
   "outputs": [],
   "source": [
    "def sigmoid(z):\n",
    "    return 1 / (1 + np.exp(-z))"
   ]
  },
  {
   "cell_type": "markdown",
   "id": "e08f3258",
   "metadata": {},
   "source": [
    "# Step 3: Define the Cost Function"
   ]
  },
  {
   "cell_type": "code",
   "execution_count": 30,
   "id": "3c928e1c",
   "metadata": {},
   "outputs": [],
   "source": [
    "def cost_function(theta, X, y):\n",
    "    m = len(y)\n",
    "    predictions = sigmoid(np.dot(X, theta))\n",
    "    error = (-y * np.log(predictions)) - ((1-y) * np.log(1-predictions))\n",
    "    cost = 1/m * sum(error)\n",
    "    # Ensure cost is an array\n",
    "    if not isinstance(cost, np.ndarray):\n",
    "        cost = np.array([cost])\n",
    "    gradient = 1/m * np.dot(X.transpose(), (predictions - y))\n",
    "    return cost[0], gradient"
   ]
  },
  {
   "cell_type": "markdown",
   "id": "fbf3d83c",
   "metadata": {},
   "source": [
    "# Step 4: Gradient Descent"
   ]
  },
  {
   "cell_type": "code",
   "execution_count": 31,
   "id": "46d0125f",
   "metadata": {},
   "outputs": [],
   "source": [
    "\n",
    "def gradient_descent(X, y, theta, alpha, num_iterations):\n",
    "    m = len(y)\n",
    "    cost_history = []\n",
    "    for i in range(num_iterations):\n",
    "        cost, gradient = cost_function(theta, X, y)\n",
    "        theta -= alpha * gradient\n",
    "        cost_history.append(cost)\n",
    "    return theta, cost_history"
   ]
  },
  {
   "cell_type": "markdown",
   "id": "7fbc89e8",
   "metadata": {},
   "source": [
    "# Step 5: Training the Model"
   ]
  },
  {
   "cell_type": "code",
   "execution_count": 32,
   "id": "9e3d929c",
   "metadata": {},
   "outputs": [
    {
     "name": "stdout",
     "output_type": "stream",
     "text": [
      "Estimated parameters: [0.17201048 1.87003478]\n"
     ]
    }
   ],
   "source": [
    "# Add an intercept column to X\n",
    "X = np.hstack((np.ones((X.shape[0], 1)), X))\n",
    "theta = np.zeros(X.shape[1])\n",
    "alpha = 0.01\n",
    "num_iterations = 1000\n",
    "theta, cost_history = gradient_descent(X, y, theta, alpha, num_iterations)\n",
    "print(f\"Estimated parameters: {theta}\")"
   ]
  },
  {
   "cell_type": "markdown",
   "id": "18d7216b",
   "metadata": {},
   "source": [
    "# Step 6: Plotting the Cost Function"
   ]
  },
  {
   "cell_type": "code",
   "execution_count": 33,
   "id": "607896fb",
   "metadata": {},
   "outputs": [
    {
     "data": {
      "image/png": "[encoded data removed]",
      "text/plain": [
       "<Figure size 432x288 with 1 Axes>"
      ]
     },
     "metadata": {
      "needs_background": "light"
     },
     "output_type": "display_data"
    }
   ],
   "source": [
    "plt.plot(cost_history,marker='*',linewidth=0.1)\n",
    "plt.xlabel(\"Iteration\")\n",
    "plt.ylabel(\"$J(\\Theta)$\")\n",
    "plt.title(\"Cost function using Gradient Descent\")\n",
    "plt.grid()\n",
    "plt.show()"
   ]
  },
  {
   "cell_type": "code",
   "execution_count": 94,
   "id": "556d277b",
   "metadata": {},
   "outputs": [],
   "source": [
    "model = LogisticRegression(solver='liblinear', random_state=0).fit(X, y)"
   ]
  },
  {
   "cell_type": "code",
   "execution_count": 106,
   "id": "7d461e2d",
   "metadata": {},
   "outputs": [
    {
     "data": {
      "text/plain": [
       "array([[9.59682927e-04, 9.99040317e-01],\n",
       "       [1.42285958e-01, 8.57714042e-01],\n",
       "       [1.83111006e-02, 9.81688899e-01],\n",
       "       [1.58593980e-04, 9.99841406e-01],\n",
       "       [6.49346434e-04, 9.99350654e-01],\n",
       "       [9.67898511e-01, 3.21014893e-02],\n",
       "       [2.03611398e-02, 9.79638860e-01],\n",
       "       [5.71181144e-01, 4.28818856e-01],\n",
       "       [5.26188585e-01, 4.73811415e-01],\n",
       "       [1.37540551e-01, 8.62459449e-01],\n",
       "       [3.03840685e-01, 6.96159315e-01],\n",
       "       [3.08567682e-03, 9.96914323e-01],\n",
       "       [4.07185884e-02, 9.59281412e-01],\n",
       "       [3.22001771e-01, 6.77998229e-01],\n",
       "       [1.23303478e-01, 8.76696522e-01],\n",
       "       [1.75762941e-01, 8.24237059e-01],\n",
       "       [2.65608647e-03, 9.97343914e-01],\n",
       "       [6.20078563e-01, 3.79921437e-01],\n",
       "       [1.87324492e-01, 8.12675508e-01],\n",
       "       [9.49834409e-01, 5.01655906e-02],\n",
       "       [9.99913716e-01, 8.62835442e-05],\n",
       "       [5.98740237e-02, 9.40125976e-01],\n",
       "       [2.79214299e-02, 9.72078570e-01],\n",
       "       [9.25407149e-01, 7.45928508e-02],\n",
       "       [1.42216759e-04, 9.99857783e-01],\n",
       "       [9.94558340e-01, 5.44165969e-03],\n",
       "       [3.87496851e-01, 6.12503149e-01],\n",
       "       [6.03959637e-01, 3.96040363e-01],\n",
       "       [2.29571021e-03, 9.97704290e-01],\n",
       "       [2.91527448e-03, 9.97084726e-01],\n",
       "       [2.95200296e-01, 7.04799704e-01],\n",
       "       [1.52728849e-01, 8.47271151e-01],\n",
       "       [9.55562121e-01, 4.44378788e-02],\n",
       "       [9.99251414e-01, 7.48585678e-04],\n",
       "       [7.36735920e-01, 2.63264080e-01],\n",
       "       [2.94100096e-01, 7.05899904e-01],\n",
       "       [7.16115596e-03, 9.92838844e-01],\n",
       "       [7.95099032e-03, 9.92049010e-01],\n",
       "       [7.64577837e-01, 2.35422163e-01],\n",
       "       [7.01992147e-01, 2.98007853e-01],\n",
       "       [9.75287791e-01, 2.47122091e-02],\n",
       "       [9.93809201e-01, 6.19079860e-03],\n",
       "       [9.97891512e-01, 2.10848802e-03],\n",
       "       [4.74292530e-04, 9.99525707e-01],\n",
       "       [8.37531385e-01, 1.62468615e-01],\n",
       "       [7.97318728e-01, 2.02681272e-01],\n",
       "       [9.88420492e-01, 1.15795080e-02],\n",
       "       [3.83593561e-02, 9.61640644e-01],\n",
       "       [9.97013843e-01, 2.98615679e-03],\n",
       "       [6.26801497e-01, 3.73198503e-01],\n",
       "       [9.56777863e-01, 4.32221371e-02],\n",
       "       [1.48505874e-01, 8.51494126e-01],\n",
       "       [8.38123081e-01, 1.61876919e-01],\n",
       "       [9.84847279e-01, 1.51527207e-02],\n",
       "       [4.55476337e-01, 5.44523663e-01],\n",
       "       [1.29786322e-01, 8.70213678e-01],\n",
       "       [3.69059598e-01, 6.30940402e-01],\n",
       "       [1.93493422e-01, 8.06506578e-01],\n",
       "       [8.91954221e-01, 1.08045779e-01],\n",
       "       [7.47454495e-01, 2.52545505e-01],\n",
       "       [9.05073280e-01, 9.49267198e-02],\n",
       "       [7.45174741e-01, 2.54825259e-01],\n",
       "       [9.41930434e-01, 5.80695665e-02],\n",
       "       [9.98044714e-01, 1.95528609e-03],\n",
       "       [2.77847677e-01, 7.22152323e-01],\n",
       "       [7.74262402e-01, 2.25737598e-01],\n",
       "       [9.97191649e-01, 2.80835118e-03],\n",
       "       [1.15784451e-01, 8.84215549e-01],\n",
       "       [9.58588684e-01, 4.14113164e-02],\n",
       "       [3.81965361e-01, 6.18034639e-01],\n",
       "       [4.57020242e-02, 9.54297976e-01],\n",
       "       [3.16005557e-01, 6.83994443e-01],\n",
       "       [1.00647546e-02, 9.89935245e-01],\n",
       "       [9.87617352e-01, 1.23826482e-02],\n",
       "       [1.41282001e-01, 8.58717999e-01],\n",
       "       [9.09005828e-01, 9.09941717e-02],\n",
       "       [9.52756333e-01, 4.72436673e-02],\n",
       "       [8.70042776e-01, 1.29957224e-01],\n",
       "       [7.09248987e-01, 2.90751013e-01],\n",
       "       [3.78209821e-01, 6.21790179e-01],\n",
       "       [9.83949408e-01, 1.60505924e-02],\n",
       "       [2.44233166e-02, 9.75576683e-01],\n",
       "       [1.14675361e-01, 8.85324639e-01],\n",
       "       [9.96000080e-01, 3.99992021e-03],\n",
       "       [2.71503044e-03, 9.97284970e-01],\n",
       "       [5.83487859e-04, 9.99416512e-01],\n",
       "       [8.68584911e-03, 9.91314151e-01],\n",
       "       [5.97383189e-01, 4.02616811e-01],\n",
       "       [9.77230144e-01, 2.27698557e-02],\n",
       "       [1.38197225e-02, 9.86180278e-01],\n",
       "       [7.75182653e-01, 2.24817347e-01],\n",
       "       [7.37495208e-03, 9.92625048e-01],\n",
       "       [2.55083537e-01, 7.44916463e-01],\n",
       "       [1.84541557e-02, 9.81545844e-01],\n",
       "       [1.63689124e-01, 8.36310876e-01],\n",
       "       [4.95579830e-02, 9.50442017e-01],\n",
       "       [4.19537360e-01, 5.80462640e-01],\n",
       "       [8.83834989e-04, 9.99116165e-01],\n",
       "       [3.17698594e-01, 6.82301406e-01],\n",
       "       [1.41443505e-01, 8.58556495e-01]])"
      ]
     },
     "execution_count": 106,
     "metadata": {},
     "output_type": "execute_result"
    }
   ],
   "source": [
    "p_pred = model.predict_proba(X)\n",
    "#p_pred = p_pred.astype(int)\n",
    "y_pred = model.predict(X)\n",
    "score_ = model.score(X, y)\n",
    "cm = confusion_matrix(y, y_pred)\n",
    "report = classification_report(y, y_pred)\n",
    "p_pred"
   ]
  },
  {
   "cell_type": "code",
   "execution_count": 54,
   "id": "6b73b2e0",
   "metadata": {},
   "outputs": [
    {
     "data": {
      "image/png": "[encoded data removed]",
      "text/plain": [
       "<Figure size 576x576 with 1 Axes>"
      ]
     },
     "metadata": {
      "needs_background": "light"
     },
     "output_type": "display_data"
    }
   ],
   "source": [
    "fig, ax = plt.subplots(figsize=(8, 8))\n",
    "ax.imshow(cm)\n",
    "ax.grid(False)\n",
    "ax.xaxis.set(ticks=(0, 1), ticklabels=('Predicted 0s', 'Predicted 1s'))\n",
    "ax.yaxis.set(ticks=(0, 1), ticklabels=('Actual 0s', 'Actual 1s'))\n",
    "ax.set_ylim(1.5, -0.5)\n",
    "for i in range(2):\n",
    "    for j in range(2):\n",
    "        ax.text(j, i, cm[i, j], ha='center', va='center', color='red')\n",
    "plt.show()"
   ]
  },
  {
   "cell_type": "code",
   "execution_count": 89,
   "id": "07ef7bcc",
   "metadata": {},
   "outputs": [],
   "source": [
    "def plot_roc_curve(true_y, y_prob):\n",
    "    fpr, tpr, thresholds = roc_curve(true_y, y_prob)\n",
    "    plt.plot(fpr, tpr,marker='*')\n",
    "    plt.xlabel('False Positive Rate')\n",
    "    plt.ylabel('True Positive Rate')\n",
    "    print(thresholds)"
   ]
  },
  {
   "cell_type": "code",
   "execution_count": 99,
   "id": "32ce6de8",
   "metadata": {},
   "outputs": [
    {
     "name": "stdout",
     "output_type": "stream",
     "text": [
      "[2. 1. 0.]\n"
     ]
    },
    {
     "data": {
      "image/png": "[encoded data removed]",
      "text/plain": [
       "<Figure size 432x288 with 1 Axes>"
      ]
     },
     "metadata": {
      "needs_background": "light"
     },
     "output_type": "display_data"
    }
   ],
   "source": [
    "plot_roc_curve(y,y_pred)"
   ]
  }
 ],
 "metadata": {
  "kernelspec": {
   "display_name": "Python 3 (ipykernel)",
   "language": "python",
   "name": "python3"
  },
  "language_info": {
   "codemirror_mode": {
    "name": "ipython",
    "version": 3
   },
   "file_extension": ".py",
   "mimetype": "text/x-python",
   "name": "python",
   "nbconvert_exporter": "python",
   "pygments_lexer": "ipython3",
   "version": "3.9.12"
  }
 },
 "nbformat": 4,
 "nbformat_minor": 5
}
